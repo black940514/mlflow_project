{
 "cells": [
  {
   "cell_type": "code",
   "execution_count": 1,
   "metadata": {},
   "outputs": [
    {
     "data": {
      "text/html": [
       "<div>\n",
       "<style scoped>\n",
       "    .dataframe tbody tr th:only-of-type {\n",
       "        vertical-align: middle;\n",
       "    }\n",
       "\n",
       "    .dataframe tbody tr th {\n",
       "        vertical-align: top;\n",
       "    }\n",
       "\n",
       "    .dataframe thead th {\n",
       "        text-align: right;\n",
       "    }\n",
       "</style>\n",
       "<table border=\"1\" class=\"dataframe\">\n",
       "  <thead>\n",
       "    <tr style=\"text-align: right;\">\n",
       "      <th></th>\n",
       "      <th>Age</th>\n",
       "      <th>SibSp</th>\n",
       "      <th>Parch</th>\n",
       "      <th>Fare</th>\n",
       "      <th>Pclass_1</th>\n",
       "      <th>Pclass_2</th>\n",
       "      <th>Pclass_3</th>\n",
       "      <th>Sex_female</th>\n",
       "      <th>Sex_male</th>\n",
       "      <th>Embarked_C</th>\n",
       "      <th>Embarked_N</th>\n",
       "      <th>Embarked_Q</th>\n",
       "      <th>Embarked_S</th>\n",
       "      <th>Survived</th>\n",
       "    </tr>\n",
       "  </thead>\n",
       "  <tbody>\n",
       "    <tr>\n",
       "      <th>0</th>\n",
       "      <td>0.271174</td>\n",
       "      <td>0.125</td>\n",
       "      <td>0.0</td>\n",
       "      <td>0.014151</td>\n",
       "      <td>False</td>\n",
       "      <td>False</td>\n",
       "      <td>True</td>\n",
       "      <td>False</td>\n",
       "      <td>True</td>\n",
       "      <td>False</td>\n",
       "      <td>False</td>\n",
       "      <td>False</td>\n",
       "      <td>True</td>\n",
       "      <td>0</td>\n",
       "    </tr>\n",
       "    <tr>\n",
       "      <th>1</th>\n",
       "      <td>0.472229</td>\n",
       "      <td>0.125</td>\n",
       "      <td>0.0</td>\n",
       "      <td>0.139136</td>\n",
       "      <td>True</td>\n",
       "      <td>False</td>\n",
       "      <td>False</td>\n",
       "      <td>True</td>\n",
       "      <td>False</td>\n",
       "      <td>True</td>\n",
       "      <td>False</td>\n",
       "      <td>False</td>\n",
       "      <td>False</td>\n",
       "      <td>1</td>\n",
       "    </tr>\n",
       "    <tr>\n",
       "      <th>2</th>\n",
       "      <td>0.321438</td>\n",
       "      <td>0.000</td>\n",
       "      <td>0.0</td>\n",
       "      <td>0.015469</td>\n",
       "      <td>False</td>\n",
       "      <td>False</td>\n",
       "      <td>True</td>\n",
       "      <td>True</td>\n",
       "      <td>False</td>\n",
       "      <td>False</td>\n",
       "      <td>False</td>\n",
       "      <td>False</td>\n",
       "      <td>True</td>\n",
       "      <td>1</td>\n",
       "    </tr>\n",
       "    <tr>\n",
       "      <th>3</th>\n",
       "      <td>0.434531</td>\n",
       "      <td>0.125</td>\n",
       "      <td>0.0</td>\n",
       "      <td>0.103644</td>\n",
       "      <td>True</td>\n",
       "      <td>False</td>\n",
       "      <td>False</td>\n",
       "      <td>True</td>\n",
       "      <td>False</td>\n",
       "      <td>False</td>\n",
       "      <td>False</td>\n",
       "      <td>False</td>\n",
       "      <td>True</td>\n",
       "      <td>1</td>\n",
       "    </tr>\n",
       "    <tr>\n",
       "      <th>4</th>\n",
       "      <td>0.434531</td>\n",
       "      <td>0.000</td>\n",
       "      <td>0.0</td>\n",
       "      <td>0.015713</td>\n",
       "      <td>False</td>\n",
       "      <td>False</td>\n",
       "      <td>True</td>\n",
       "      <td>False</td>\n",
       "      <td>True</td>\n",
       "      <td>False</td>\n",
       "      <td>False</td>\n",
       "      <td>False</td>\n",
       "      <td>True</td>\n",
       "      <td>0</td>\n",
       "    </tr>\n",
       "  </tbody>\n",
       "</table>\n",
       "</div>"
      ],
      "text/plain": [
       "        Age  SibSp  Parch      Fare  Pclass_1  Pclass_2  Pclass_3  Sex_female  \\\n",
       "0  0.271174  0.125    0.0  0.014151     False     False      True       False   \n",
       "1  0.472229  0.125    0.0  0.139136      True     False     False        True   \n",
       "2  0.321438  0.000    0.0  0.015469     False     False      True        True   \n",
       "3  0.434531  0.125    0.0  0.103644      True     False     False        True   \n",
       "4  0.434531  0.000    0.0  0.015713     False     False      True       False   \n",
       "\n",
       "   Sex_male  Embarked_C  Embarked_N  Embarked_Q  Embarked_S  Survived  \n",
       "0      True       False       False       False        True         0  \n",
       "1     False        True       False       False       False         1  \n",
       "2     False       False       False       False        True         1  \n",
       "3     False       False       False       False        True         1  \n",
       "4      True       False       False       False        True         0  "
      ]
     },
     "execution_count": 1,
     "metadata": {},
     "output_type": "execute_result"
    }
   ],
   "source": [
    "import pandas as pd\n",
    "from sklearn.ensemble import RandomForestClassifier\n",
    "from sklearn.model_selection import train_test_split\n",
    "from sklearn.metrics import accuracy_score\n",
    "from sklearn.metrics import precision_recall_fscore_support\n",
    "\n",
    "%matplotlib inline\n",
    "\n",
    "df = pd.read_csv('dataset_preprocessing.csv', index_col=0)\n",
    "df.head()"
   ]
  },
  {
   "cell_type": "code",
   "execution_count": 2,
   "metadata": {},
   "outputs": [],
   "source": [
    "label = df[\"Survived\"]\n",
    "df = df.drop([\"Survived\"], axis=1)"
   ]
  },
  {
   "cell_type": "code",
   "execution_count": 3,
   "metadata": {},
   "outputs": [],
   "source": [
    "X_train, X_test, y_train, y_test = train_test_split(df, label, test_size=0.25, random_state=1234)"
   ]
  },
  {
   "attachments": {},
   "cell_type": "markdown",
   "metadata": {},
   "source": [
    "### 0. 일반적인 모델 학습"
   ]
  },
  {
   "cell_type": "code",
   "execution_count": 4,
   "metadata": {},
   "outputs": [],
   "source": [
    "# 모델 초기화\n",
    "n_estimator = 300\n",
    "random_state = 1234\n",
    "\n",
    "model = RandomForestClassifier(n_estimators=n_estimator, random_state=random_state)\n",
    "# 모델 학습\n",
    "model.fit(X_train, y_train)\n",
    "# 테스트 데이터에 대한 예측\n",
    "y_pred = model.predict(X_test)\n",
    "# 정확도 계산\n",
    "accuracy = accuracy_score(y_test, y_pred)\n",
    "prf = precision_recall_fscore_support(y_test, y_pred, average='binary')"
   ]
  },
  {
   "cell_type": "code",
   "execution_count": 5,
   "metadata": {},
   "outputs": [
    {
     "data": {
      "text/plain": [
       "0.8116591928251121"
      ]
     },
     "execution_count": 5,
     "metadata": {},
     "output_type": "execute_result"
    }
   ],
   "source": [
    "# 정확도 출력\n",
    "accuracy"
   ]
  },
  {
   "cell_type": "code",
   "execution_count": 6,
   "metadata": {},
   "outputs": [
    {
     "data": {
      "text/plain": [
       "(0.788235294117647, 0.7362637362637363, 0.7613636363636364, None)"
      ]
     },
     "execution_count": 6,
     "metadata": {},
     "output_type": "execute_result"
    }
   ],
   "source": [
    "prf"
   ]
  },
  {
   "attachments": {},
   "cell_type": "markdown",
   "metadata": {},
   "source": [
    "### 1. MLflow를 활용한 모델 학습 Tracking\n",
    "* custom logging (직접 로깅) 을 통한 모델 학습 기록 관리\n",
    "* auto logging을 활용한 모델 학습 기록 관리\n",
    "* auto loggine + custom logging"
   ]
  },
  {
   "attachments": {},
   "cell_type": "markdown",
   "metadata": {},
   "source": [
    "##### 1) Custom logging(직접 로깅)을 통한 모델 학습 기록 관리"
   ]
  },
  {
   "cell_type": "code",
   "execution_count": 7,
   "metadata": {},
   "outputs": [
    {
     "data": {
      "text/plain": [
       "'745210100665217220'"
      ]
     },
     "execution_count": 7,
     "metadata": {},
     "output_type": "execute_result"
    }
   ],
   "source": [
    "import mlflow\n",
    "\n",
    "'''\n",
    "\tTo do\n",
    "    tracking uri를 셋팅하기 -> local host로 진행 \n",
    "    experiment 생성하기 -> hellomlflow!\n",
    "    experiment 셋팅하기 -> hellomlflow!\n",
    "'''\n",
    "\n",
    "mlflow.set_tracking_uri(\"http://127.0.0.1:5000\")\n",
    "mlflow.create_experiment(\"hellomlflow!\")\n"
   ]
  },
  {
   "cell_type": "code",
   "execution_count": 8,
   "metadata": {},
   "outputs": [
    {
     "data": {
      "text/plain": [
       "<Experiment: artifact_location='mlflow-artifacts:/745210100665217220', creation_time=1742631717739, experiment_id='745210100665217220', last_update_time=1742631717739, lifecycle_stage='active', name='hellomlflow!', tags={}>"
      ]
     },
     "execution_count": 8,
     "metadata": {},
     "output_type": "execute_result"
    }
   ],
   "source": [
    "mlflow.set_experiment(\"hellomlflow!\")"
   ]
  },
  {
   "cell_type": "code",
   "execution_count": 9,
   "metadata": {},
   "outputs": [
    {
     "name": "stderr",
     "output_type": "stream",
     "text": [
      "2025/03/22 17:22:23 WARNING mlflow.models.model: Model logged without a signature and input example. Please set `input_example` parameter when logging the model to auto infer the model signature.\n"
     ]
    },
    {
     "name": "stdout",
     "output_type": "stream",
     "text": [
      "🏃 View run clumsy-shrew-937 at: http://127.0.0.1:5000/#/experiments/745210100665217220/runs/6ccd366963e4443d84d7a33e7f387b17\n",
      "🧪 View experiment at: http://127.0.0.1:5000/#/experiments/745210100665217220\n"
     ]
    }
   ],
   "source": [
    "'''\n",
    "\tTo do\n",
    "\tmlflow 활용해서 Custom Logging을 진행 \n",
    "    아래 함수를 이용해 logging을 진행\n",
    "\t\t1) mlflow.log_param()\n",
    "\t\t\tn_estimator\n",
    "\t\t2) mlflow.log_model()\n",
    "\t\t\tsave model\n",
    "    3) mlflow.log_metric()\n",
    "\t\t\tmetric -> accuracy, precision, recall, f1score\n",
    "\n",
    "'''\n",
    "\n",
    "n_estimator = 80\n",
    "random_state = 1234\n",
    "\n",
    "with mlflow.start_run():\n",
    "    model = RandomForestClassifier(n_estimators=n_estimator, random_state=random_state)\n",
    "    model.fit(X_train, y_train)\n",
    "    y_pred = model.predict(X_test)\n",
    "    accuracy = accuracy_score(y_test, y_pred)\n",
    "    prf = precision_recall_fscore_support(y_test, y_pred, average=\"binary\")\n",
    "    mlflow.log_param(\"n_estimator\", n_estimator)\n",
    "    mlflow.log_metric(\"accuracy_on_test\", accuracy)\n",
    "    mlflow.log_metric(\"precision_on_test\", prf[0])\n",
    "    mlflow.log_metric(\"recall_on_test\", prf[1])\n",
    "    mlflow.log_metric(\"f1score_on_test\", prf[2])\n",
    "    mlflow.sklearn.log_model(model, \"model\")"
   ]
  },
  {
   "attachments": {},
   "cell_type": "markdown",
   "metadata": {},
   "source": [
    "##### 2) auto logging을 활용한 모델 학습 기록 관리"
   ]
  },
  {
   "cell_type": "code",
   "execution_count": 10,
   "metadata": {},
   "outputs": [],
   "source": [
    "# Mlflow Sklearn을 활용해서 모델 및 메트릭 자동 기록! \n",
    "'''\n",
    "\tTo do \n",
    "\tuse autolog() on mlflow \n",
    "'''\n",
    "\n",
    "mlflow.sklearn.autolog()"
   ]
  },
  {
   "cell_type": "code",
   "execution_count": 11,
   "metadata": {},
   "outputs": [
    {
     "name": "stderr",
     "output_type": "stream",
     "text": [
      "2025/03/22 17:22:34 INFO mlflow.utils.autologging_utils: Created MLflow autologging run with ID 'edf5d1a9a7484f0396e5042473cd84c4', which will track hyperparameters, performance metrics, model artifacts, and lineage information for the current sklearn workflow\n"
     ]
    },
    {
     "name": "stdout",
     "output_type": "stream",
     "text": [
      "🏃 View run caring-horse-800 at: http://127.0.0.1:5000/#/experiments/745210100665217220/runs/edf5d1a9a7484f0396e5042473cd84c4\n",
      "🧪 View experiment at: http://127.0.0.1:5000/#/experiments/745210100665217220\n"
     ]
    }
   ],
   "source": [
    "# 모델 초기화\n",
    "n_estimator = 77\n",
    "random_state = 2222\n",
    "\n",
    "model = RandomForestClassifier(n_estimators=n_estimator, random_state=random_state)\n",
    "# 모델 학습\n",
    "model.fit(X_train, y_train)\n",
    "# 테스트 데이터에 대한 예측\n",
    "y_pred = model.predict(X_test)\n",
    "# 정확도 계산\n",
    "accuracy = accuracy_score(y_test, y_pred)\n",
    "prf = precision_recall_fscore_support(y_test, y_pred, average='binary')"
   ]
  },
  {
   "attachments": {},
   "cell_type": "markdown",
   "metadata": {},
   "source": [
    "### 3) auto logging + custom logging을 활용한 모델 학습 관리"
   ]
  },
  {
   "cell_type": "code",
   "execution_count": 12,
   "metadata": {},
   "outputs": [
    {
     "name": "stdout",
     "output_type": "stream",
     "text": [
      "🏃 View run worried-bee-726 at: http://127.0.0.1:5000/#/experiments/745210100665217220/runs/1591682db1ef4b03905315ec9d6bc82c\n",
      "🧪 View experiment at: http://127.0.0.1:5000/#/experiments/745210100665217220\n"
     ]
    }
   ],
   "source": [
    "'''\n",
    "\tTo do\n",
    "\tauto logging에서 수집되지 않는 정보 추가로 logging 하기 \n",
    "\t\tprecision, recall, f1score, accuracy for test data set \n",
    "\n",
    "'''\n",
    "\n",
    "with mlflow.start_run():\n",
    "    n_estimator = 400 \n",
    "    random_state = 7777\n",
    "    max_depth = 2\n",
    "    model = RandomForestClassifier(n_estimators=n_estimator, random_state=random_state, max_depth=max_depth)\n",
    "    model.fit(X_train, y_train)\n",
    "    y_pred = model.predict(X_test)\n",
    "    accuracy = accuracy_score(y_test, y_pred)\n",
    "    prf = precision_recall_fscore_support(y_test, y_pred, average=\"binary\")\n",
    "    mlflow.log_metric(\"precision_on_test\", prf[0])\n",
    "    mlflow.log_metric(\"recall_on_test\", prf[1])\n",
    "    mlflow.log_metric(\"f1score_on_test\", prf[2])\n",
    "    mlflow.log_metric(\"accuracy_on_test\", accuracy)\n",
    "\n"
   ]
  },
  {
   "attachments": {},
   "cell_type": "markdown",
   "metadata": {},
   "source": [
    "### 2. MLflow를 활용한 모델 최적화 Tracking\n",
    "* 직접 parameter 변경해가며 모델 최적화\n",
    "* GridSearch 혹은 RandomSearch를 활용하여 모델 최적화\n"
   ]
  },
  {
   "attachments": {},
   "cell_type": "markdown",
   "metadata": {},
   "source": [
    "##### 1) 직접 parameter 변경해가며 모델 최적화"
   ]
  },
  {
   "cell_type": "code",
   "execution_count": 13,
   "metadata": {},
   "outputs": [],
   "source": [
    "def train_model_with_hyperparameters(n_estimator, max_depth, max_feature):\n",
    "    with mlflow.start_run():\n",
    "        model = RandomForestClassifier(n_estimators=n_estimator, max_depth=max_depth, max_features=max_feature)\n",
    "        model.fit(X_train, y_train)\n",
    "        y_pred = model.predict(X_test)\n",
    "        accuracy = accuracy_score(y_test, y_pred)\n",
    "        prf = precision_recall_fscore_support(y_test, y_pred, average='binary')\n",
    "        mlflow.log_metric(\"precision_on_test\", prf[0])\n",
    "        mlflow.log_metric(\"recall_on_test\", prf[1])\n",
    "        mlflow.log_metric(\"f1score_on_test\", prf[2])\n",
    "        mlflow.log_metric(\"accuracy_on_test\", accuracy)"
   ]
  },
  {
   "cell_type": "code",
   "execution_count": 14,
   "metadata": {},
   "outputs": [
    {
     "name": "stdout",
     "output_type": "stream",
     "text": [
      "🏃 View run bold-ape-851 at: http://127.0.0.1:5000/#/experiments/745210100665217220/runs/172a95ea94064613b0a062415baef27e\n",
      "🧪 View experiment at: http://127.0.0.1:5000/#/experiments/745210100665217220\n",
      "🏃 View run funny-mole-384 at: http://127.0.0.1:5000/#/experiments/745210100665217220/runs/a72f921e89974f2896d8cdee09bf9f19\n",
      "🧪 View experiment at: http://127.0.0.1:5000/#/experiments/745210100665217220\n",
      "🏃 View run blushing-fawn-236 at: http://127.0.0.1:5000/#/experiments/745210100665217220/runs/68bd2a2ca27a4e7594350bb712c11e49\n",
      "🧪 View experiment at: http://127.0.0.1:5000/#/experiments/745210100665217220\n",
      "🏃 View run agreeable-turtle-849 at: http://127.0.0.1:5000/#/experiments/745210100665217220/runs/824b0d9aaa5f447f9f8dd1154d57e040\n",
      "🧪 View experiment at: http://127.0.0.1:5000/#/experiments/745210100665217220\n",
      "🏃 View run nebulous-robin-632 at: http://127.0.0.1:5000/#/experiments/745210100665217220/runs/1437f4dab824416ca2e096b75e310100\n",
      "🧪 View experiment at: http://127.0.0.1:5000/#/experiments/745210100665217220\n",
      "🏃 View run valuable-auk-839 at: http://127.0.0.1:5000/#/experiments/745210100665217220/runs/264603e9787844dc8065bdca065e4e09\n",
      "🧪 View experiment at: http://127.0.0.1:5000/#/experiments/745210100665217220\n",
      "🏃 View run trusting-panda-109 at: http://127.0.0.1:5000/#/experiments/745210100665217220/runs/70b6892683444f55b19a785f8f750daa\n",
      "🧪 View experiment at: http://127.0.0.1:5000/#/experiments/745210100665217220\n",
      "🏃 View run unique-stork-137 at: http://127.0.0.1:5000/#/experiments/745210100665217220/runs/d4852c44faf346f8b6732f5731197cf1\n",
      "🧪 View experiment at: http://127.0.0.1:5000/#/experiments/745210100665217220\n",
      "🏃 View run rare-ox-693 at: http://127.0.0.1:5000/#/experiments/745210100665217220/runs/4198d3dff9ce4c278a5ea40870353e6f\n",
      "🧪 View experiment at: http://127.0.0.1:5000/#/experiments/745210100665217220\n",
      "🏃 View run melodic-sloth-449 at: http://127.0.0.1:5000/#/experiments/745210100665217220/runs/f73e10f7405b4ec49b81c789746877f9\n",
      "🧪 View experiment at: http://127.0.0.1:5000/#/experiments/745210100665217220\n",
      "🏃 View run amazing-wolf-632 at: http://127.0.0.1:5000/#/experiments/745210100665217220/runs/409493a32a9447d2b410603714f22074\n",
      "🧪 View experiment at: http://127.0.0.1:5000/#/experiments/745210100665217220\n",
      "🏃 View run tasteful-ox-171 at: http://127.0.0.1:5000/#/experiments/745210100665217220/runs/466edc5d1c5746ce956cc7d39c5d7b02\n",
      "🧪 View experiment at: http://127.0.0.1:5000/#/experiments/745210100665217220\n",
      "🏃 View run exultant-fly-584 at: http://127.0.0.1:5000/#/experiments/745210100665217220/runs/43242892e9fa4ee394c83e8daad4bc41\n",
      "🧪 View experiment at: http://127.0.0.1:5000/#/experiments/745210100665217220\n",
      "🏃 View run resilient-goat-315 at: http://127.0.0.1:5000/#/experiments/745210100665217220/runs/5aff85ce131648cbbb843d72e5f22639\n",
      "🧪 View experiment at: http://127.0.0.1:5000/#/experiments/745210100665217220\n",
      "🏃 View run vaunted-wolf-637 at: http://127.0.0.1:5000/#/experiments/745210100665217220/runs/ff1b55c8753f4abe8744c444ce95ac38\n",
      "🧪 View experiment at: http://127.0.0.1:5000/#/experiments/745210100665217220\n",
      "🏃 View run unleashed-boar-191 at: http://127.0.0.1:5000/#/experiments/745210100665217220/runs/38fd3bedd85a4926bfd964ba158a2c74\n",
      "🧪 View experiment at: http://127.0.0.1:5000/#/experiments/745210100665217220\n",
      "🏃 View run sassy-eel-496 at: http://127.0.0.1:5000/#/experiments/745210100665217220/runs/4263fb0df43e4a5ea39e4f614ed0b13c\n",
      "🧪 View experiment at: http://127.0.0.1:5000/#/experiments/745210100665217220\n",
      "🏃 View run upbeat-fowl-567 at: http://127.0.0.1:5000/#/experiments/745210100665217220/runs/80741a14f2454e35aba7082b8eb01c8b\n",
      "🧪 View experiment at: http://127.0.0.1:5000/#/experiments/745210100665217220\n",
      "🏃 View run youthful-steed-646 at: http://127.0.0.1:5000/#/experiments/745210100665217220/runs/b46e6095a4744778898c3fbc1ee6c554\n",
      "🧪 View experiment at: http://127.0.0.1:5000/#/experiments/745210100665217220\n",
      "🏃 View run secretive-stoat-811 at: http://127.0.0.1:5000/#/experiments/745210100665217220/runs/bb6d501744ff4f9da412d0207d8d8b71\n",
      "🧪 View experiment at: http://127.0.0.1:5000/#/experiments/745210100665217220\n",
      "🏃 View run gifted-hare-114 at: http://127.0.0.1:5000/#/experiments/745210100665217220/runs/5bb6d1582b2e481ca757180e60b8695e\n",
      "🧪 View experiment at: http://127.0.0.1:5000/#/experiments/745210100665217220\n",
      "🏃 View run amazing-duck-527 at: http://127.0.0.1:5000/#/experiments/745210100665217220/runs/76eb15a501594874861ad0da5ee4d759\n",
      "🧪 View experiment at: http://127.0.0.1:5000/#/experiments/745210100665217220\n",
      "🏃 View run traveling-perch-794 at: http://127.0.0.1:5000/#/experiments/745210100665217220/runs/6d77d1c39f9b4cf79ae729e35c62adae\n",
      "🧪 View experiment at: http://127.0.0.1:5000/#/experiments/745210100665217220\n",
      "🏃 View run charming-gull-160 at: http://127.0.0.1:5000/#/experiments/745210100665217220/runs/b9ebf04a2957454da70ff45e9564fa4b\n",
      "🧪 View experiment at: http://127.0.0.1:5000/#/experiments/745210100665217220\n",
      "🏃 View run resilient-crow-808 at: http://127.0.0.1:5000/#/experiments/745210100665217220/runs/afa926a9adf646f9b33a5711129048c9\n",
      "🧪 View experiment at: http://127.0.0.1:5000/#/experiments/745210100665217220\n",
      "🏃 View run loud-moose-170 at: http://127.0.0.1:5000/#/experiments/745210100665217220/runs/1e481c1b3fcc49d28617f010867a21af\n",
      "🧪 View experiment at: http://127.0.0.1:5000/#/experiments/745210100665217220\n",
      "🏃 View run bittersweet-cod-799 at: http://127.0.0.1:5000/#/experiments/745210100665217220/runs/a31c1357a06e4973b8049878fa90a449\n",
      "🧪 View experiment at: http://127.0.0.1:5000/#/experiments/745210100665217220\n",
      "🏃 View run rare-midge-596 at: http://127.0.0.1:5000/#/experiments/745210100665217220/runs/f4793667fcd042feaf6d16a8023595ea\n",
      "🧪 View experiment at: http://127.0.0.1:5000/#/experiments/745210100665217220\n",
      "🏃 View run popular-gnat-589 at: http://127.0.0.1:5000/#/experiments/745210100665217220/runs/8e3b5cb1e785466aaf629af96c7d7769\n",
      "🧪 View experiment at: http://127.0.0.1:5000/#/experiments/745210100665217220\n",
      "🏃 View run persistent-fish-176 at: http://127.0.0.1:5000/#/experiments/745210100665217220/runs/ed458f6b78bc4640be4ec2564bd60011\n",
      "🧪 View experiment at: http://127.0.0.1:5000/#/experiments/745210100665217220\n",
      "🏃 View run clumsy-shrike-375 at: http://127.0.0.1:5000/#/experiments/745210100665217220/runs/66326feacd8349048ab75a4e5ecc0b17\n",
      "🧪 View experiment at: http://127.0.0.1:5000/#/experiments/745210100665217220\n",
      "🏃 View run thoughtful-mare-479 at: http://127.0.0.1:5000/#/experiments/745210100665217220/runs/4ee62794ab1a4ee09903722d696ca5c5\n",
      "🧪 View experiment at: http://127.0.0.1:5000/#/experiments/745210100665217220\n",
      "🏃 View run useful-newt-969 at: http://127.0.0.1:5000/#/experiments/745210100665217220/runs/aa7e72b0e3a0482e92cecdf48a4a0805\n",
      "🧪 View experiment at: http://127.0.0.1:5000/#/experiments/745210100665217220\n",
      "🏃 View run debonair-pig-974 at: http://127.0.0.1:5000/#/experiments/745210100665217220/runs/f1d13330de594de79b09486c61950e6b\n",
      "🧪 View experiment at: http://127.0.0.1:5000/#/experiments/745210100665217220\n",
      "🏃 View run judicious-shad-585 at: http://127.0.0.1:5000/#/experiments/745210100665217220/runs/d09fb9921137455f9460c539dfae1ac9\n",
      "🧪 View experiment at: http://127.0.0.1:5000/#/experiments/745210100665217220\n",
      "🏃 View run adaptable-pig-565 at: http://127.0.0.1:5000/#/experiments/745210100665217220/runs/e918220887574f8a88c838a6ac168f6c\n",
      "🧪 View experiment at: http://127.0.0.1:5000/#/experiments/745210100665217220\n",
      "🏃 View run magnificent-loon-735 at: http://127.0.0.1:5000/#/experiments/745210100665217220/runs/b847a02b9246498e8617e53356e2f652\n",
      "🧪 View experiment at: http://127.0.0.1:5000/#/experiments/745210100665217220\n",
      "🏃 View run able-crab-34 at: http://127.0.0.1:5000/#/experiments/745210100665217220/runs/7a39df207e9c4acf86b956129ad0510d\n",
      "🧪 View experiment at: http://127.0.0.1:5000/#/experiments/745210100665217220\n",
      "🏃 View run respected-yak-424 at: http://127.0.0.1:5000/#/experiments/745210100665217220/runs/3d95cbe4c3c84273aacadf4f53e52e0c\n",
      "🧪 View experiment at: http://127.0.0.1:5000/#/experiments/745210100665217220\n",
      "🏃 View run adaptable-donkey-288 at: http://127.0.0.1:5000/#/experiments/745210100665217220/runs/f4b4804b076c4c2f85bfd79f6e48cca2\n",
      "🧪 View experiment at: http://127.0.0.1:5000/#/experiments/745210100665217220\n",
      "🏃 View run awesome-toad-728 at: http://127.0.0.1:5000/#/experiments/745210100665217220/runs/1b427aec739c4cea80084dca76a46d49\n",
      "🧪 View experiment at: http://127.0.0.1:5000/#/experiments/745210100665217220\n",
      "🏃 View run redolent-kit-938 at: http://127.0.0.1:5000/#/experiments/745210100665217220/runs/8c1ea69158c24e0b8f74a25025b257d3\n",
      "🧪 View experiment at: http://127.0.0.1:5000/#/experiments/745210100665217220\n",
      "🏃 View run dapper-ant-379 at: http://127.0.0.1:5000/#/experiments/745210100665217220/runs/797f75295657475fb2fb5ffcaada17ec\n",
      "🧪 View experiment at: http://127.0.0.1:5000/#/experiments/745210100665217220\n",
      "🏃 View run auspicious-dog-630 at: http://127.0.0.1:5000/#/experiments/745210100665217220/runs/a9939dc002e7403a850c31668319da0b\n",
      "🧪 View experiment at: http://127.0.0.1:5000/#/experiments/745210100665217220\n",
      "🏃 View run beautiful-doe-913 at: http://127.0.0.1:5000/#/experiments/745210100665217220/runs/8f72f67804e448e4ad3bbe2e87bbb4c7\n",
      "🧪 View experiment at: http://127.0.0.1:5000/#/experiments/745210100665217220\n",
      "🏃 View run angry-dolphin-646 at: http://127.0.0.1:5000/#/experiments/745210100665217220/runs/22918553867f407488b474ffcfb86f48\n",
      "🧪 View experiment at: http://127.0.0.1:5000/#/experiments/745210100665217220\n",
      "🏃 View run legendary-shrike-770 at: http://127.0.0.1:5000/#/experiments/745210100665217220/runs/fdea7ee959514ea88f60b2929fbbef70\n",
      "🧪 View experiment at: http://127.0.0.1:5000/#/experiments/745210100665217220\n",
      "🏃 View run calm-squirrel-720 at: http://127.0.0.1:5000/#/experiments/745210100665217220/runs/cfe9a4e22f034c68a99e4a63baa6bec9\n",
      "🧪 View experiment at: http://127.0.0.1:5000/#/experiments/745210100665217220\n"
     ]
    }
   ],
   "source": [
    "n_estimators = [50, 100, 150, 200]\n",
    "max_depths = [2, 5, 10]\n",
    "max_features = [5, 8, 10, 13]\n",
    "\n",
    "'''\n",
    "    To do\n",
    "    run model with hyper-parameter combination \n",
    "'''\n",
    "\n",
    "for n_estimator in n_estimators:\n",
    "    for max_depth in max_depths:\n",
    "        for max_feature in max_features:\n",
    "            train_model_with_hyperparameters(n_estimator, max_depth, max_feature)"
   ]
  },
  {
   "attachments": {},
   "cell_type": "markdown",
   "metadata": {},
   "source": [
    "##### 2) GridSearch 혹은 RandomSearch를 활용하여 모델 최적화\n"
   ]
  },
  {
   "cell_type": "code",
   "execution_count": 15,
   "metadata": {},
   "outputs": [
    {
     "name": "stderr",
     "output_type": "stream",
     "text": [
      "2025/03/22 17:38:41 INFO mlflow.sklearn.utils: Logging the 5 best runs, no runs will be omitted.\n"
     ]
    },
    {
     "name": "stdout",
     "output_type": "stream",
     "text": [
      "🏃 View run legendary-jay-846 at: http://127.0.0.1:5000/#/experiments/745210100665217220/runs/a0113f2054924b1cbe40d2002949a8a3\n",
      "🧪 View experiment at: http://127.0.0.1:5000/#/experiments/745210100665217220\n",
      "🏃 View run magnificent-hen-179 at: http://127.0.0.1:5000/#/experiments/745210100665217220/runs/486d59ec5421434cbf23ffe111f7f748\n",
      "🧪 View experiment at: http://127.0.0.1:5000/#/experiments/745210100665217220\n",
      "🏃 View run dazzling-frog-245 at: http://127.0.0.1:5000/#/experiments/745210100665217220/runs/0ba0ed47cd264ae991e1ba3005a2ab01\n",
      "🧪 View experiment at: http://127.0.0.1:5000/#/experiments/745210100665217220\n",
      "🏃 View run delightful-moth-120 at: http://127.0.0.1:5000/#/experiments/745210100665217220/runs/ad7b277edcb0497382abb2c18f0b67c7\n",
      "🧪 View experiment at: http://127.0.0.1:5000/#/experiments/745210100665217220\n",
      "🏃 View run loud-tern-252 at: http://127.0.0.1:5000/#/experiments/745210100665217220/runs/bb002988d23a4e1da802870f713e060e\n",
      "🧪 View experiment at: http://127.0.0.1:5000/#/experiments/745210100665217220\n"
     ]
    }
   ],
   "source": [
    "from sklearn.model_selection import GridSearchCV\n",
    "\n",
    "\n",
    "'''\n",
    "\tTo do\n",
    "\trun GridSearchCV with mlflow \n",
    "'''\n",
    "\n",
    "with mlflow.start_run():\n",
    "    model_grid = GridSearchCV(RandomForestClassifier(), {\"n_estimators\":[100,200], \"max_depth\":[20,25]})\n",
    "    model_grid.fit(X_train, y_train)\n",
    "    y_pred = model_grid.predict(X_test)\n",
    "    accuracy = accuracy_score(y_test, y_pred)\n",
    "    prf = precision_recall_fscore_support(y_test, y_pred, average=\"binary\")\n",
    "    mlflow.log_metric(\"precision_on_test\", prf[0])\n",
    "    mlflow.log_metric(\"recall_on_test\", prf[1])\n",
    "    mlflow.log_metric(\"f1score_on_test\", prf[2])\n",
    "    mlflow.log_metric(\"accuracy_on_test\", accuracy)\n"
   ]
  },
  {
   "cell_type": "code",
   "execution_count": null,
   "metadata": {},
   "outputs": [],
   "source": []
  }
 ],
 "metadata": {
  "kernelspec": {
   "display_name": "fastcampus_mlops_env",
   "language": "python",
   "name": "python3"
  },
  "language_info": {
   "codemirror_mode": {
    "name": "ipython",
    "version": 3
   },
   "file_extension": ".py",
   "mimetype": "text/x-python",
   "name": "python",
   "nbconvert_exporter": "python",
   "pygments_lexer": "ipython3",
   "version": "3.13.2"
  },
  "orig_nbformat": 4
 },
 "nbformat": 4,
 "nbformat_minor": 2
}
